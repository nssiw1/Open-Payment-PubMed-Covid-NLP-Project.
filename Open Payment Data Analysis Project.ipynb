{
 "cells": [
  {
   "cell_type": "markdown",
   "metadata": {},
   "source": [
    "client.get(\"nimj-3ivp\", limit=2)\n",
    "[{u'geolocation': {u'latitude': u'41.1085', u'needs_recoding': False, u'longitude': u'-117.6135'}, u'version': u'9', u'source': u'nn', u'region': u'Nevada', u'occurred_at': u'2012-09-14T22:38:01', u'number_of_stations': u'15', u'depth': u'7.60', u'magnitude': u'2.7', u'earthquake_id': u'00388610'}, {...}]\n",
    "\n",
    "client.get(\"nimj-3ivp\", where=\"depth > 300\", order=\"magnitude DESC\", exclude_system_fields=False)\n",
    "[{u'geolocation': {u'latitude': u'-15.563', u'needs_recoding': False, u'longitude': u'-175.6104'}, u'version': u'9', u':updated_at': 1348778988, u'number_of_stations': u'275', u'region': u'Tonga', u':created_meta': u'21484', u'occurred_at': u'2012-09-13T21:16:43', u':id': 132, u'source': u'us', u'depth': u'328.30', u'magnitude': u'4.8', u':meta': u'{\\n}', u':updated_meta': u'21484', u'earthquake_id': u'c000cnb5', u':created_at': 1348778988}, {...}]\n",
    "\n",
    "client.get(\"nimj-3ivp/193\", exclude_system_fields=False)\n",
    "{u'geolocation': {u'latitude': u'21.6711', u'needs_recoding': False, u'longitude': u'142.9236'}, u'version': u'C', u':updated_at': 1348778988, u'number_of_stations': u'136', u'region': u'Mariana Islands region', u':created_meta': u'21484', u'occurred_at': u'2012-09-13T11:19:07', u':id': 193, u'source': u'us', u'depth': u'300.70', u'magnitude': u'4.4', u':meta': u'{\\n}', u':updated_meta': u'21484', u':position': 193, u'earthquake_id': u'c000cmsq', u':created_at': 1348778988}\n",
    "\n",
    "client.get(\"nimj-3ivp\", region=\"Kansas\")\n",
    "[{u'geolocation': {u'latitude': u'38.10', u'needs_recoding': False, u'longitude': u'-100.6135'}, u'version': u'9', u'source': u'nn', u'region': u'Kansas', u'occurred_at': u'2010-09-19T20:52:09', u'number_of_stations': u'15', u'depth': u'300.0', u'magnitude': u'1.9', u'earthquake_id': u'00189621'}, {...}]\n",
    "get_metadata(dataset_identifier, content_type=\"json\")"
   ]
  },
  {
   "cell_type": "code",
   "execution_count": 2,
   "metadata": {},
   "outputs": [
    {
     "name": "stdout",
     "output_type": "stream",
     "text": [
      "Collecting sodapy\n",
      "  Downloading https://files.pythonhosted.org/packages/64/06/6144b36a4b4470bef1fb17d7b98b82a202b5e918f7e0a2c123004f73ca07/sodapy-2.0.0-py2.py3-none-any.whl\n",
      "Requirement already satisfied: requests>=2.20.0 in c:\\users\\ehu\\appdata\\local\\continuum\\anaconda3\\lib\\site-packages (from sodapy) (2.22.0)\n",
      "Requirement already satisfied: idna<2.9,>=2.5 in c:\\users\\ehu\\appdata\\local\\continuum\\anaconda3\\lib\\site-packages (from requests>=2.20.0->sodapy) (2.8)\n",
      "Requirement already satisfied: certifi>=2017.4.17 in c:\\users\\ehu\\appdata\\local\\continuum\\anaconda3\\lib\\site-packages (from requests>=2.20.0->sodapy) (2019.9.11)\n",
      "Requirement already satisfied: chardet<3.1.0,>=3.0.2 in c:\\users\\ehu\\appdata\\local\\continuum\\anaconda3\\lib\\site-packages (from requests>=2.20.0->sodapy) (3.0.4)\n",
      "Requirement already satisfied: urllib3!=1.25.0,!=1.25.1,<1.26,>=1.21.1 in c:\\users\\ehu\\appdata\\local\\continuum\\anaconda3\\lib\\site-packages (from requests>=2.20.0->sodapy) (1.24.2)\n",
      "Installing collected packages: sodapy\n",
      "Successfully installed sodapy-2.0.0\n",
      "Note: you may need to restart the kernel to use updated packages.\n"
     ]
    }
   ],
   "source": [
    "pip install sodapy"
   ]
  },
  {
   "cell_type": "code",
   "execution_count": 1,
   "metadata": {},
   "outputs": [],
   "source": [
    "import pandas as pd\n",
    "from sodapy import Socrata\n",
    "import requests\n",
    "from tqdm import tqdm\n",
    "import numpy as np"
   ]
  },
  {
   "cell_type": "code",
   "execution_count": 6,
   "metadata": {},
   "outputs": [],
   "source": [
    "# Unauthenticated client only works with public data sets. Note 'None'\n",
    "# in place of application token, and no username or password:\n",
    "client = Socrata('openpaymentsdata.cms.gov',\n",
    "                 'Jz9oHVfn5y4yT5DdO0HplDtR8',\n",
    "                 \"rickyli5962@gmail.com\",\n",
    "                 \"LiXiao5962$\")\n",
    "client.timeout = 50"
   ]
  },
  {
   "cell_type": "code",
   "execution_count": 7,
   "metadata": {},
   "outputs": [
    {
     "name": "stderr",
     "output_type": "stream",
     "text": [
      "100%|██████████| 5/5 [09:37<00:00, 115.57s/it]\n"
     ]
    }
   ],
   "source": [
    "# Search OpenPayentData by physician specialty and find top physcians (ranked by payment amount)\n",
    "\n",
    "results_list = []\n",
    "dataset_ids = {2013: '9gtv-e3na',\n",
    "               2015: 'rqr8-e3gy',\n",
    "               2016: 'daqx-kcwf',\n",
    "               2017: 'trby-32sz',\n",
    "               2018: 'xrap-xhey'}\n",
    "\n",
    "for year in tqdm([2013, 2015, 2016, 2017, 2018]):\n",
    "    page = 0\n",
    "    while True:\n",
    "        results = client.get(dataset_ids[year],\n",
    "                             content_type=\"json\",\n",
    "                             physician_specialty='Allopathic & Osteopathic Physicians|Internal Medicine|Pulmonary Disease',\n",
    "                             limit=10000,\n",
    "                             offset=page*10000) # recipient_city='New York City'\n",
    "        # Convert to pandas DataFrame\n",
    "        if len(results) > 0:\n",
    "            results_list.append(pd.DataFrame.from_records(results)[['applicable_manufacturer_or_applicable_gpo_making_payment_name',                                                                                                         \n",
    "                                                                    'payment_publication_date', \n",
    "                                                                    'physician_profile_id',\n",
    "                                                                    'physician_first_name',\n",
    "                                                                    'physician_last_name', \n",
    "                                                                    'physician_middle_name',   \n",
    "                                                                    'physician_name_suffix',\n",
    "                                                                    'physician_primary_type',\n",
    "                                                                    'physician_profile_id',\n",
    "                                                                    'physician_specialty',\n",
    "                                                                    'program_year',\n",
    "                                                                    'recipient_city',\n",
    "                                                                    'recipient_country',\n",
    "                                                                    'recipient_primary_business_street_address_line1',                                                \n",
    "                                                                    'recipient_state',\n",
    "                                                                    'recipient_zip_code',\n",
    "                                                                    'applicable_manufacturer_or_applicable_gpo_making_payment_id',\n",
    "                                                                    'total_amount_of_payment_usdollars',\n",
    "                                                                    'date_of_payment',\n",
    "                                                                    'number_of_payments_included_in_total_amount',\n",
    "                                                                    'physician_ownership_indicator',\n",
    "                                                                    'charity_indicator',\n",
    "                                                                    'record_id',\n",
    "                                                                    'nature_of_payment_or_transfer_of_value']])\n",
    "            page += 1\n",
    "        else:\n",
    "            break"
   ]
  },
  {
   "cell_type": "code",
   "execution_count": 8,
   "metadata": {},
   "outputs": [
    {
     "data": {
      "text/plain": [
       "(1166003, 24)"
      ]
     },
     "execution_count": 8,
     "metadata": {},
     "output_type": "execute_result"
    }
   ],
   "source": [
    "results_df = pd.concat(results_list)\n",
    "results_df.shape"
   ]
  },
  {
   "cell_type": "code",
   "execution_count": 9,
   "metadata": {},
   "outputs": [],
   "source": [
    "results_df.to_csv(r'C:\\Users\\ehu\\OneDrive - Huntsworth Health\\Desktop\\Open Payment Data\\data 1.0-2013 - 2018.csv')"
   ]
  },
  {
   "cell_type": "code",
   "execution_count": 10,
   "metadata": {},
   "outputs": [],
   "source": [
    "# Experiment with Pandas Pivot Table\n",
    "data = pd.read_csv(r'C:\\Users\\ehu\\OneDrive - Huntsworth Health\\Desktop\\Open Payment Data\\data 1.0-2013 - 2018.csv')"
   ]
  },
  {
   "cell_type": "code",
   "execution_count": 11,
   "metadata": {},
   "outputs": [],
   "source": [
    "# Pivot table return ranked physicians by total \n",
    "table = pd.pivot_table(data, values='total_amount_of_payment_usdollars',\n",
    "                    index=['physician_profile_id'],\n",
    "                    columns=[],\n",
    "                    aggfunc=np.sum)"
   ]
  },
  {
   "cell_type": "code",
   "execution_count": 12,
   "metadata": {},
   "outputs": [],
   "source": [
    "top_100 = list(table.reindex(table['total_amount_of_payment_usdollars'].sort_values( ascending=False).index).head(100).index)\n",
    "top_100_df = data.loc[data['physician_profile_id'].isin(top_100)]\n",
    "top_100_df.to_csv(r'C:\\Users\\ehu\\OneDrive - Huntsworth Health\\Desktop\\Open Payment Data\\Top 100-Vertex 1.0.csv')"
   ]
  },
  {
   "cell_type": "markdown",
   "metadata": {},
   "source": [
    "#### "
   ]
  },
  {
   "cell_type": "code",
   "execution_count": 5,
   "metadata": {},
   "outputs": [],
   "source": [
    "# top_100 = pd.read_excel(r'C:\\Users\\rli\\OneDrive - Huntsworth Health\\MyFiles\\Desktop\\Gilead HCV KOL Project 150106419\\HCV KOL Table 070819.xlsm', sheet_name='OpenPaymentData')['Physician ID']"
   ]
  },
  {
   "cell_type": "code",
   "execution_count": 19,
   "metadata": {},
   "outputs": [
    {
     "name": "stderr",
     "output_type": "stream",
     "text": [
      "100%|██████████| 12/12 [01:12<00:00,  6.01s/it]\n"
     ]
    },
    {
     "data": {
      "text/plain": [
       "(76855, 61)"
      ]
     },
     "execution_count": 19,
     "metadata": {},
     "output_type": "execute_result"
    }
   ],
   "source": [
    "results_list = []\n",
    "dataset_ids = {2013: '9gtv-e3na',\n",
    "               2015: 'rqr8-e3gy',\n",
    "               2016: 'daqx-kcwf',\n",
    "               2017: 'trby-32sz',\n",
    "               2018: 'xrap-xhey'}\n",
    "product_list = ['Sovaldi', 'Sofosbuvir', 'Mavyret', 'Glecaprevir', 'Pibrentasvir', 'Epclusa', 'Velpatasvir', 'Harvoni', 'Ledipasvir', 'Sofosbuvir', 'Vosevi', 'Voxilaprevir']\n",
    "\n",
    "for product in tqdm(product_list):\n",
    "    for year in [2016, 2017, 2018]:\n",
    "        results = client.get(dataset_ids[year],\n",
    "                             content_type=\"json\",\n",
    "                             Name_of_Drug_or_Biological_or_Device_or_Medical_Supply_1=product,\n",
    "                             limit=10000000,\n",
    "                            ) # recipient_city='New York City'\n",
    "        if len(results) > 0:\n",
    "            # Convert to pandas DataFrame\n",
    "            results_list.append(pd.DataFrame.from_records(results))\n",
    "\n",
    "        results = client.get(dataset_ids[year],\n",
    "                             content_type=\"json\",\n",
    "                             Name_of_Drug_or_Biological_or_Device_or_Medical_Supply_2=product,\n",
    "                             limit=100000,\n",
    "                            ) # recipient_city='New York City'   \n",
    "        if len(results) > 0:\n",
    "            # Convert to pandas DataFrame\n",
    "            results_list.append(pd.DataFrame.from_records(results))\n",
    "            \n",
    "        results = client.get(dataset_ids[year],\n",
    "                             content_type=\"json\",\n",
    "                             Name_of_Drug_or_Biological_or_Device_or_Medical_Supply_3=product,\n",
    "                             limit=100000,\n",
    "                            ) # recipient_city='New York City'   \n",
    "        if len(results) > 0:\n",
    "            # Convert to pandas DataFrame\n",
    "            results_list.append(pd.DataFrame.from_records(results))\n",
    "\n",
    "\n",
    "data = pd.concat(results_list, sort=False)\n",
    "data.shape"
   ]
  },
  {
   "cell_type": "code",
   "execution_count": 20,
   "metadata": {},
   "outputs": [],
   "source": [
    "data.to_excel(r'C:\\Users\\ehu\\OneDrive - Huntsworth Health\\Desktop\\Open Payment Data\\product 2016-2018.xlsx')"
   ]
  },
  {
   "cell_type": "code",
   "execution_count": 21,
   "metadata": {},
   "outputs": [
    {
     "data": {
      "text/plain": [
       "15"
      ]
     },
     "execution_count": 21,
     "metadata": {},
     "output_type": "execute_result"
    }
   ],
   "source": [
    "len(results_list)"
   ]
  },
  {
   "cell_type": "code",
   "execution_count": 22,
   "metadata": {},
   "outputs": [
    {
     "name": "stderr",
     "output_type": "stream",
     "text": [
      "100%|██████████| 12/12 [00:38<00:00,  3.19s/it]\n"
     ]
    },
    {
     "ename": "ValueError",
     "evalue": "No objects to concatenate",
     "output_type": "error",
     "traceback": [
      "\u001b[1;31m---------------------------------------------------------------------------\u001b[0m",
      "\u001b[1;31mValueError\u001b[0m                                Traceback (most recent call last)",
      "\u001b[1;32m<ipython-input-22-e11e3e8f32db>\u001b[0m in \u001b[0;36m<module>\u001b[1;34m\u001b[0m\n\u001b[0;32m     50\u001b[0m             \u001b[0mresults_list\u001b[0m\u001b[1;33m.\u001b[0m\u001b[0mappend\u001b[0m\u001b[1;33m(\u001b[0m\u001b[0mpd\u001b[0m\u001b[1;33m.\u001b[0m\u001b[0mDataFrame\u001b[0m\u001b[1;33m.\u001b[0m\u001b[0mfrom_records\u001b[0m\u001b[1;33m(\u001b[0m\u001b[0mresults\u001b[0m\u001b[1;33m)\u001b[0m\u001b[1;33m)\u001b[0m\u001b[1;33m\u001b[0m\u001b[1;33m\u001b[0m\u001b[0m\n\u001b[0;32m     51\u001b[0m \u001b[1;33m\u001b[0m\u001b[0m\n\u001b[1;32m---> 52\u001b[1;33m \u001b[0mdata\u001b[0m \u001b[1;33m=\u001b[0m \u001b[0mpd\u001b[0m\u001b[1;33m.\u001b[0m\u001b[0mconcat\u001b[0m\u001b[1;33m(\u001b[0m\u001b[0mresults_list\u001b[0m\u001b[1;33m,\u001b[0m \u001b[0msort\u001b[0m\u001b[1;33m=\u001b[0m\u001b[1;32mFalse\u001b[0m\u001b[1;33m)\u001b[0m\u001b[1;33m\u001b[0m\u001b[1;33m\u001b[0m\u001b[0m\n\u001b[0m\u001b[0;32m     53\u001b[0m \u001b[0mdata\u001b[0m\u001b[1;33m.\u001b[0m\u001b[0mshape\u001b[0m\u001b[1;33m\u001b[0m\u001b[1;33m\u001b[0m\u001b[0m\n",
      "\u001b[1;32m~\\AppData\\Local\\Continuum\\anaconda3\\lib\\site-packages\\pandas\\core\\reshape\\concat.py\u001b[0m in \u001b[0;36mconcat\u001b[1;34m(objs, axis, join, join_axes, ignore_index, keys, levels, names, verify_integrity, sort, copy)\u001b[0m\n\u001b[0;32m    253\u001b[0m         \u001b[0mverify_integrity\u001b[0m\u001b[1;33m=\u001b[0m\u001b[0mverify_integrity\u001b[0m\u001b[1;33m,\u001b[0m\u001b[1;33m\u001b[0m\u001b[1;33m\u001b[0m\u001b[0m\n\u001b[0;32m    254\u001b[0m         \u001b[0mcopy\u001b[0m\u001b[1;33m=\u001b[0m\u001b[0mcopy\u001b[0m\u001b[1;33m,\u001b[0m\u001b[1;33m\u001b[0m\u001b[1;33m\u001b[0m\u001b[0m\n\u001b[1;32m--> 255\u001b[1;33m         \u001b[0msort\u001b[0m\u001b[1;33m=\u001b[0m\u001b[0msort\u001b[0m\u001b[1;33m,\u001b[0m\u001b[1;33m\u001b[0m\u001b[1;33m\u001b[0m\u001b[0m\n\u001b[0m\u001b[0;32m    256\u001b[0m     )\n\u001b[0;32m    257\u001b[0m \u001b[1;33m\u001b[0m\u001b[0m\n",
      "\u001b[1;32m~\\AppData\\Local\\Continuum\\anaconda3\\lib\\site-packages\\pandas\\core\\reshape\\concat.py\u001b[0m in \u001b[0;36m__init__\u001b[1;34m(self, objs, axis, join, join_axes, keys, levels, names, ignore_index, verify_integrity, copy, sort)\u001b[0m\n\u001b[0;32m    302\u001b[0m \u001b[1;33m\u001b[0m\u001b[0m\n\u001b[0;32m    303\u001b[0m         \u001b[1;32mif\u001b[0m \u001b[0mlen\u001b[0m\u001b[1;33m(\u001b[0m\u001b[0mobjs\u001b[0m\u001b[1;33m)\u001b[0m \u001b[1;33m==\u001b[0m \u001b[1;36m0\u001b[0m\u001b[1;33m:\u001b[0m\u001b[1;33m\u001b[0m\u001b[1;33m\u001b[0m\u001b[0m\n\u001b[1;32m--> 304\u001b[1;33m             \u001b[1;32mraise\u001b[0m \u001b[0mValueError\u001b[0m\u001b[1;33m(\u001b[0m\u001b[1;34m\"No objects to concatenate\"\u001b[0m\u001b[1;33m)\u001b[0m\u001b[1;33m\u001b[0m\u001b[1;33m\u001b[0m\u001b[0m\n\u001b[0m\u001b[0;32m    305\u001b[0m \u001b[1;33m\u001b[0m\u001b[0m\n\u001b[0;32m    306\u001b[0m         \u001b[1;32mif\u001b[0m \u001b[0mkeys\u001b[0m \u001b[1;32mis\u001b[0m \u001b[1;32mNone\u001b[0m\u001b[1;33m:\u001b[0m\u001b[1;33m\u001b[0m\u001b[1;33m\u001b[0m\u001b[0m\n",
      "\u001b[1;31mValueError\u001b[0m: No objects to concatenate"
     ]
    }
   ],
   "source": [
    "results_list = []\n",
    "dataset_ids = {2013: '9gtv-e3na',\n",
    "               2015: 'rqr8-e3gy',\n",
    "               2016: 'daqx-kcwf',\n",
    "               2017: 'trby-32sz',\n",
    "               2018: 'xrap-xhey'}\n",
    "product_list = ['Sovaldi', 'Sofosbuvir', 'Mavyret', 'Glecaprevir', 'Pibrentasvir', 'Epclusa', 'Velpatasvir', 'Harvoni', 'Ledipasvir', 'Sofosbuvir', 'Vosevi', 'Voxilaprevir']\n",
    "\n",
    "for product in tqdm(product_list):\n",
    "    for year in [2013, 2015]:\n",
    "        results = client.get(dataset_ids[year],\n",
    "                             content_type=\"json\",\n",
    "                             NDC_of_Associated_Covered_Drug_or_Biological1=product,\n",
    "                             limit=1000000) # recipient_city='New York City'\n",
    "        if len(results) > 0:\n",
    "            # Convert to pandas DataFrame\n",
    "            results_list.append(pd.DataFrame.from_records(results))\n",
    "\n",
    "        results = client.get(dataset_ids[year],\n",
    "                             content_type=\"json\",\n",
    "                             NDC_of_Associated_Covered_Drug_or_Biological2=product,\n",
    "                             limit=1000000) # recipient_city='New York City'   \n",
    "        if len(results) > 0:\n",
    "            # Convert to pandas DataFrame\n",
    "            results_list.append(pd.DataFrame.from_records(results))\n",
    "            \n",
    "        results = client.get(dataset_ids[year],\n",
    "                             content_type=\"json\",\n",
    "                             NDC_of_Associated_Covered_Drug_or_Biological3=product,\n",
    "                             limit=1000000) # recipient_city='New York City'   \n",
    "        if len(results) > 0:\n",
    "            # Convert to pandas DataFrame\n",
    "            results_list.append(pd.DataFrame.from_records(results))\n",
    "\n",
    "        results = client.get(dataset_ids[year],\n",
    "                             content_type=\"json\",\n",
    "                             NDC_of_Associated_Covered_Drug_or_Biological4=product,\n",
    "                             limit=1000000) # recipient_city='New York City'   \n",
    "        if len(results) > 0:\n",
    "            # Convert to pandas DataFrame\n",
    "            results_list.append(pd.DataFrame.from_records(results))\n",
    "\n",
    "            \n",
    "        results = client.get(dataset_ids[year],\n",
    "                             content_type=\"json\",\n",
    "                             NDC_of_Associated_Covered_Drug_or_Biological5=product,\n",
    "                             limit=1000000) # recipient_city='New York City'   \n",
    "        if len(results) > 0:\n",
    "            # Convert to pandas DataFrame\n",
    "            results_list.append(pd.DataFrame.from_records(results))\n",
    "            \n",
    "data = pd.concat(results_list, sort=False)\n",
    "data.shape"
   ]
  },
  {
   "cell_type": "code",
   "execution_count": null,
   "metadata": {},
   "outputs": [],
   "source": [
    "data.to_excel(r'C:\\Users\\ehu\\OneDrive - Huntsworth Health\\Desktop\\Open Payment Data\\product 2013 / 2015.xlsx')"
   ]
  },
  {
   "cell_type": "code",
   "execution_count": 24,
   "metadata": {},
   "outputs": [
    {
     "name": "stderr",
     "output_type": "stream",
     "text": [
      "100%|██████████| 100/100 [00:28<00:00,  3.57it/s]\n"
     ]
    }
   ],
   "source": [
    "payment_aggregated = pd.DataFrame()\n",
    "for physician_id in tqdm(top_100):\n",
    "    physician = pd.DataFrame.from_dict(requests.get('https://openpaymentsdata.cms.gov/resource/g3bj-c2us.json?%24select=%3A*%2C%20*&%24where=(physician_profile_id%3D%27'+str(physician_id)+'%27)&%24group=&%24order=program_year%20DESC&%24limit=1000').json())\n",
    "    payment_aggregated = pd.concat([payment_aggregated, physician], sort=False)"
   ]
  },
  {
   "cell_type": "code",
   "execution_count": 25,
   "metadata": {},
   "outputs": [],
   "source": [
    "national = pd.DataFrame.from_dict(requests.get('https://openpaymentsdata.cms.gov/resource/g4ja-kp2b.json?%24select=%3A*%2C%20*&%24group=&%24order=payment_type%2C%20program_year%20asc&%24limit=1000').json())\n",
    "specialty = pd.DataFrame.from_dict(requests.get('https://openpaymentsdata.cms.gov/resource/gbyk-sdtr.json?%24select=%3A*%2C%20*&%24where=(provider_type_description%20%3D%20%27Allopathic%20%26%20Osteopathic%20Physicians%27)%20and%20(classification%20%3D%20%27Internal%20Medicine%27)%20and%20(specialization%20%3D%20%27Pulmonary%20Disease%27)&%24group=&%24order=payment_type%2C%20program_year%20asc&%24limit=1000').json())"
   ]
  },
  {
   "cell_type": "code",
   "execution_count": 26,
   "metadata": {},
   "outputs": [],
   "source": [
    "writer = pd.ExcelWriter(r'C:\\Users\\ehu\\OneDrive - Huntsworth Health\\MyFiles\\Desktop\\Open Payment Data\\additional.xlsx', engine='xlsxwriter')\n",
    "payment_aggregated.to_excel(writer, sheet_name='Payment_aggregated', index=False)\n",
    "national.to_excel(writer, sheet_name='National', index=False)\n",
    "specialty.to_excel(writer, sheet_name='Specialty', index=False)\n",
    "data.to_excel(writer, sheet_name='Top_100', index=False)"
   ]
  },
  {
   "cell_type": "code",
   "execution_count": null,
   "metadata": {},
   "outputs": [],
   "source": [
    "writer.save()# Finished - save\n",
    "writer.close()# Finished - close"
   ]
  },
  {
   "cell_type": "code",
   "execution_count": 3,
   "metadata": {},
   "outputs": [],
   "source": [
    "df= pd.read_excel(r'C:\\Users\\ehu\\OneDrive - Huntsworth Health\\Desktop\\Open Payment Data\\product 2016-2018.xlsx')"
   ]
  },
  {
   "cell_type": "code",
   "execution_count": 4,
   "metadata": {},
   "outputs": [
    {
     "data": {
      "text/plain": [
       "physician_profile_id  program_year\n",
       "16.0                  2017            239.29\n",
       "20.0                  2016            231.20\n",
       "106.0                 2017             73.32\n",
       "                      2018             27.40\n",
       "135.0                 2018             14.60\n",
       "Name: total_amount_of_payment_usdollars, dtype: float64"
      ]
     },
     "execution_count": 4,
     "metadata": {},
     "output_type": "execute_result"
    }
   ],
   "source": [
    "pbiy = df.groupby(['physician_profile_id','program_year'])['total_amount_of_payment_usdollars'].sum()\n",
    "pbiy.head()"
   ]
  },
  {
   "cell_type": "code",
   "execution_count": 14,
   "metadata": {},
   "outputs": [
    {
     "data": {
      "text/plain": [
       "physician_profile_id  program_year\n",
       "16.0                  2017            119.645\n",
       "20.0                  2016            115.600\n",
       "106.0                 2017             18.330\n",
       "                      2018             13.700\n",
       "135.0                 2018             14.600\n",
       "Name: total_amount_of_payment_usdollars, dtype: float64"
      ]
     },
     "execution_count": 14,
     "metadata": {},
     "output_type": "execute_result"
    }
   ],
   "source": [
    "pbiy = df.groupby(['physician_profile_id','program_year'])['total_amount_of_payment_usdollars'].mean()\n",
    "pbiy.head()"
   ]
  },
  {
   "cell_type": "code",
   "execution_count": 39,
   "metadata": {},
   "outputs": [
    {
     "data": {
      "text/plain": [
       "program_year\n",
       "2016    9134075.60\n",
       "2017    8378266.15\n",
       "2018    8856031.69\n",
       "Name: total_amount_of_payment_usdollars, dtype: float64"
      ]
     },
     "execution_count": 39,
     "metadata": {},
     "output_type": "execute_result"
    }
   ],
   "source": [
    "pby = df.groupby(['program_year'])['total_amount_of_payment_usdollars'].sum()\n",
    "pby.head()"
   ]
  },
  {
   "cell_type": "code",
   "execution_count": 38,
   "metadata": {},
   "outputs": [
    {
     "data": {
      "text/plain": [
       "program_year\n",
       "2016    9134075.60\n",
       "2017    8378266.15\n",
       "2018    8856031.69\n",
       "Name: total_amount_of_payment_usdollars, dtype: float64"
      ]
     },
     "execution_count": 38,
     "metadata": {},
     "output_type": "execute_result"
    }
   ],
   "source": [
    "pby1 = df.groupby(['program_year'])['total_amount_of_payment_usdollars'].mean()\n",
    "pby.head()"
   ]
  },
  {
   "cell_type": "code",
   "execution_count": 43,
   "metadata": {},
   "outputs": [
    {
     "data": {
      "text/plain": [
       "recipient_state\n",
       "AK       1905.23\n",
       "AL     578043.26\n",
       "AR      53814.47\n",
       "AZ     343398.54\n",
       "CA    3876344.49\n",
       "Name: total_amount_of_payment_usdollars, dtype: float64"
      ]
     },
     "execution_count": 43,
     "metadata": {},
     "output_type": "execute_result"
    }
   ],
   "source": [
    "pbl = df.groupby(['recipient_state'])['total_amount_of_payment_usdollars'].sum()\n",
    "pbl.head()"
   ]
  },
  {
   "cell_type": "code",
   "execution_count": 42,
   "metadata": {},
   "outputs": [
    {
     "data": {
      "text/plain": [
       "recipient_state\n",
       "AK     61.459032\n",
       "AL    474.973919\n",
       "AR    214.400279\n",
       "AZ    271.676060\n",
       "CA    387.944805\n",
       "Name: total_amount_of_payment_usdollars, dtype: float64"
      ]
     },
     "execution_count": 42,
     "metadata": {},
     "output_type": "execute_result"
    }
   ],
   "source": [
    "pbl1 = df.groupby(['recipient_state'])['total_amount_of_payment_usdollars'].mean()\n",
    "pbl.head()"
   ]
  },
  {
   "cell_type": "code",
   "execution_count": 69,
   "metadata": {},
   "outputs": [
    {
     "data": {
      "text/plain": [
       "recipient_state\n",
       "SD    794.234536\n",
       "MN    594.305464\n",
       "KS    528.440976\n",
       "HI    512.365380\n",
       "AL    474.973919\n",
       "Name: total_amount_of_payment_usdollars, dtype: float64"
      ]
     },
     "execution_count": 69,
     "metadata": {},
     "output_type": "execute_result"
    }
   ],
   "source": [
    "pbl3 = pbl1.sort_values(ascending = False)\n",
    "pbl3.head()"
   ]
  },
  {
   "cell_type": "code",
   "execution_count": 50,
   "metadata": {},
   "outputs": [
    {
     "data": {
      "text/html": [
       "<div>\n",
       "<style scoped>\n",
       "    .dataframe tbody tr th:only-of-type {\n",
       "        vertical-align: middle;\n",
       "    }\n",
       "\n",
       "    .dataframe tbody tr th {\n",
       "        vertical-align: top;\n",
       "    }\n",
       "\n",
       "    .dataframe thead th {\n",
       "        text-align: right;\n",
       "    }\n",
       "</style>\n",
       "<table border=\"1\" class=\"dataframe\">\n",
       "  <thead>\n",
       "    <tr style=\"text-align: right;\">\n",
       "      <th></th>\n",
       "      <th>Unnamed: 0</th>\n",
       "      <th>change_type</th>\n",
       "      <th>covered_recipient_type</th>\n",
       "      <th>physician_profile_id</th>\n",
       "      <th>physician_first_name</th>\n",
       "      <th>physician_last_name</th>\n",
       "      <th>recipient_primary_business_street_address_line1</th>\n",
       "      <th>recipient_city</th>\n",
       "      <th>recipient_state</th>\n",
       "      <th>recipient_zip_code</th>\n",
       "      <th>...</th>\n",
       "      <th>product_category_or_therapeutic_area_2</th>\n",
       "      <th>name_of_drug_or_biological_or_device_or_medical_supply_2</th>\n",
       "      <th>associated_drug_or_biological_ndc_2</th>\n",
       "      <th>recipient_province</th>\n",
       "      <th>recipient_postal_code</th>\n",
       "      <th>covered_or_noncovered_indicator_3</th>\n",
       "      <th>indicate_drug_or_biological_or_device_or_medical_supply_3</th>\n",
       "      <th>product_category_or_therapeutic_area_3</th>\n",
       "      <th>name_of_drug_or_biological_or_device_or_medical_supply_3</th>\n",
       "      <th>associated_drug_or_biological_ndc_3</th>\n",
       "    </tr>\n",
       "  </thead>\n",
       "  <tbody>\n",
       "    <tr>\n",
       "      <td>30215</td>\n",
       "      <td>16271</td>\n",
       "      <td>UNCHANGED</td>\n",
       "      <td>Covered Recipient Physician</td>\n",
       "      <td>204263.0</td>\n",
       "      <td>CHARLES</td>\n",
       "      <td>KUCKEL</td>\n",
       "      <td>305 STOREY BLVD APT 3</td>\n",
       "      <td>CHEYENNE</td>\n",
       "      <td>WY</td>\n",
       "      <td>82009-3579</td>\n",
       "      <td>...</td>\n",
       "      <td>NaN</td>\n",
       "      <td>NaN</td>\n",
       "      <td>NaN</td>\n",
       "      <td>NaN</td>\n",
       "      <td>NaN</td>\n",
       "      <td>NaN</td>\n",
       "      <td>NaN</td>\n",
       "      <td>NaN</td>\n",
       "      <td>NaN</td>\n",
       "      <td>NaN</td>\n",
       "    </tr>\n",
       "    <tr>\n",
       "      <td>52739</td>\n",
       "      <td>4795</td>\n",
       "      <td>UNCHANGED</td>\n",
       "      <td>Covered Recipient Physician</td>\n",
       "      <td>204263.0</td>\n",
       "      <td>CHARLES</td>\n",
       "      <td>KUCKEL</td>\n",
       "      <td>2301 HOUSE AVE STE 300</td>\n",
       "      <td>CHEYENNE</td>\n",
       "      <td>WY</td>\n",
       "      <td>82001</td>\n",
       "      <td>...</td>\n",
       "      <td>NaN</td>\n",
       "      <td>NaN</td>\n",
       "      <td>NaN</td>\n",
       "      <td>NaN</td>\n",
       "      <td>NaN</td>\n",
       "      <td>NaN</td>\n",
       "      <td>NaN</td>\n",
       "      <td>NaN</td>\n",
       "      <td>NaN</td>\n",
       "      <td>NaN</td>\n",
       "    </tr>\n",
       "    <tr>\n",
       "      <td>43333</td>\n",
       "      <td>3280</td>\n",
       "      <td>UNCHANGED</td>\n",
       "      <td>Covered Recipient Physician</td>\n",
       "      <td>306392.0</td>\n",
       "      <td>DENNIS</td>\n",
       "      <td>BUTCHER</td>\n",
       "      <td>555 E BROADWAY</td>\n",
       "      <td>JACKSON</td>\n",
       "      <td>WY</td>\n",
       "      <td>83001</td>\n",
       "      <td>...</td>\n",
       "      <td>NaN</td>\n",
       "      <td>NaN</td>\n",
       "      <td>NaN</td>\n",
       "      <td>NaN</td>\n",
       "      <td>NaN</td>\n",
       "      <td>NaN</td>\n",
       "      <td>NaN</td>\n",
       "      <td>NaN</td>\n",
       "      <td>NaN</td>\n",
       "      <td>NaN</td>\n",
       "    </tr>\n",
       "    <tr>\n",
       "      <td>61422</td>\n",
       "      <td>4943</td>\n",
       "      <td>UNCHANGED</td>\n",
       "      <td>Covered Recipient Physician</td>\n",
       "      <td>9150.0</td>\n",
       "      <td>MOHAMAD</td>\n",
       "      <td>HAFFAR</td>\n",
       "      <td>117TH AVE</td>\n",
       "      <td>CHARLESTON</td>\n",
       "      <td>WV</td>\n",
       "      <td>25302</td>\n",
       "      <td>...</td>\n",
       "      <td>NaN</td>\n",
       "      <td>NaN</td>\n",
       "      <td>NaN</td>\n",
       "      <td>NaN</td>\n",
       "      <td>NaN</td>\n",
       "      <td>NaN</td>\n",
       "      <td>NaN</td>\n",
       "      <td>NaN</td>\n",
       "      <td>NaN</td>\n",
       "      <td>NaN</td>\n",
       "    </tr>\n",
       "    <tr>\n",
       "      <td>64444</td>\n",
       "      <td>478</td>\n",
       "      <td>UNCHANGED</td>\n",
       "      <td>Covered Recipient Physician</td>\n",
       "      <td>72144.0</td>\n",
       "      <td>SEYOUM</td>\n",
       "      <td>BAGE</td>\n",
       "      <td>800 GRAND CENTRAL MALL</td>\n",
       "      <td>VIENNA</td>\n",
       "      <td>WV</td>\n",
       "      <td>26105</td>\n",
       "      <td>...</td>\n",
       "      <td>NaN</td>\n",
       "      <td>NaN</td>\n",
       "      <td>NaN</td>\n",
       "      <td>NaN</td>\n",
       "      <td>NaN</td>\n",
       "      <td>NaN</td>\n",
       "      <td>NaN</td>\n",
       "      <td>NaN</td>\n",
       "      <td>NaN</td>\n",
       "      <td>NaN</td>\n",
       "    </tr>\n",
       "  </tbody>\n",
       "</table>\n",
       "<p>5 rows × 62 columns</p>\n",
       "</div>"
      ],
      "text/plain": [
       "       Unnamed: 0 change_type       covered_recipient_type  \\\n",
       "30215       16271   UNCHANGED  Covered Recipient Physician   \n",
       "52739        4795   UNCHANGED  Covered Recipient Physician   \n",
       "43333        3280   UNCHANGED  Covered Recipient Physician   \n",
       "61422        4943   UNCHANGED  Covered Recipient Physician   \n",
       "64444         478   UNCHANGED  Covered Recipient Physician   \n",
       "\n",
       "       physician_profile_id physician_first_name physician_last_name  \\\n",
       "30215              204263.0              CHARLES              KUCKEL   \n",
       "52739              204263.0              CHARLES              KUCKEL   \n",
       "43333              306392.0               DENNIS             BUTCHER   \n",
       "61422                9150.0              MOHAMAD              HAFFAR   \n",
       "64444               72144.0               SEYOUM                BAGE   \n",
       "\n",
       "      recipient_primary_business_street_address_line1 recipient_city  \\\n",
       "30215                           305 STOREY BLVD APT 3       CHEYENNE   \n",
       "52739                          2301 HOUSE AVE STE 300       CHEYENNE   \n",
       "43333                                  555 E BROADWAY        JACKSON   \n",
       "61422                                       117TH AVE     CHARLESTON   \n",
       "64444                          800 GRAND CENTRAL MALL         VIENNA   \n",
       "\n",
       "      recipient_state recipient_zip_code  ...  \\\n",
       "30215              WY         82009-3579  ...   \n",
       "52739              WY              82001  ...   \n",
       "43333              WY              83001  ...   \n",
       "61422              WV              25302  ...   \n",
       "64444              WV              26105  ...   \n",
       "\n",
       "      product_category_or_therapeutic_area_2  \\\n",
       "30215                                    NaN   \n",
       "52739                                    NaN   \n",
       "43333                                    NaN   \n",
       "61422                                    NaN   \n",
       "64444                                    NaN   \n",
       "\n",
       "      name_of_drug_or_biological_or_device_or_medical_supply_2  \\\n",
       "30215                                                NaN         \n",
       "52739                                                NaN         \n",
       "43333                                                NaN         \n",
       "61422                                                NaN         \n",
       "64444                                                NaN         \n",
       "\n",
       "      associated_drug_or_biological_ndc_2 recipient_province  \\\n",
       "30215                                 NaN                NaN   \n",
       "52739                                 NaN                NaN   \n",
       "43333                                 NaN                NaN   \n",
       "61422                                 NaN                NaN   \n",
       "64444                                 NaN                NaN   \n",
       "\n",
       "      recipient_postal_code  covered_or_noncovered_indicator_3  \\\n",
       "30215                   NaN                                NaN   \n",
       "52739                   NaN                                NaN   \n",
       "43333                   NaN                                NaN   \n",
       "61422                   NaN                                NaN   \n",
       "64444                   NaN                                NaN   \n",
       "\n",
       "      indicate_drug_or_biological_or_device_or_medical_supply_3  \\\n",
       "30215                                                NaN          \n",
       "52739                                                NaN          \n",
       "43333                                                NaN          \n",
       "61422                                                NaN          \n",
       "64444                                                NaN          \n",
       "\n",
       "      product_category_or_therapeutic_area_3  \\\n",
       "30215                                    NaN   \n",
       "52739                                    NaN   \n",
       "43333                                    NaN   \n",
       "61422                                    NaN   \n",
       "64444                                    NaN   \n",
       "\n",
       "      name_of_drug_or_biological_or_device_or_medical_supply_3  \\\n",
       "30215                                                NaN         \n",
       "52739                                                NaN         \n",
       "43333                                                NaN         \n",
       "61422                                                NaN         \n",
       "64444                                                NaN         \n",
       "\n",
       "       associated_drug_or_biological_ndc_3  \n",
       "30215                                  NaN  \n",
       "52739                                  NaN  \n",
       "43333                                  NaN  \n",
       "61422                                  NaN  \n",
       "64444                                  NaN  \n",
       "\n",
       "[5 rows x 62 columns]"
      ]
     },
     "execution_count": 50,
     "metadata": {},
     "output_type": "execute_result"
    }
   ],
   "source": [
    "pbl2 = df.sort_values(['recipient_state','total_amount_of_payment_usdollars'],ascending=False).groupby('recipient_state').head(3)\n",
    "pbl2.head()"
   ]
  },
  {
   "cell_type": "code",
   "execution_count": 47,
   "metadata": {},
   "outputs": [
    {
     "data": {
      "text/plain": [
       "nature_of_payment_or_transfer_of_value\n",
       "Compensation for services other than consulting, including serving as faculty or as a speaker at a venue other than a continuing education program    18349089.75\n",
       "Consulting Fee                                                                                                                                         2039935.12\n",
       "Education                                                                                                                                                 7408.19\n",
       "Food and Beverage                                                                                                                                      2618990.83\n",
       "Space rental or facility fees(teaching hospital only)                                                                                                   142890.00\n",
       "Name: total_amount_of_payment_usdollars, dtype: float64"
      ]
     },
     "execution_count": 47,
     "metadata": {},
     "output_type": "execute_result"
    }
   ],
   "source": [
    "pbn = df.groupby(['nature_of_payment_or_transfer_of_value'])['total_amount_of_payment_usdollars'].sum()\n",
    "pbn.head()"
   ]
  },
  {
   "cell_type": "code",
   "execution_count": 46,
   "metadata": {},
   "outputs": [
    {
     "data": {
      "text/plain": [
       "nature_of_payment_or_transfer_of_value\n",
       "Compensation for services other than consulting, including serving as faculty or as a speaker at a venue other than a continuing education program    2253.634211\n",
       "Consulting Fee                                                                                                                                        2083.692666\n",
       "Education                                                                                                                                               25.027669\n",
       "Food and Beverage                                                                                                                                       45.619070\n",
       "Space rental or facility fees(teaching hospital only)                                                                                                 2132.686567\n",
       "Name: total_amount_of_payment_usdollars, dtype: float64"
      ]
     },
     "execution_count": 46,
     "metadata": {},
     "output_type": "execute_result"
    }
   ],
   "source": [
    "pbn1 = df.groupby(['nature_of_payment_or_transfer_of_value'])['total_amount_of_payment_usdollars'].mean()\n",
    "pbn.head()"
   ]
  },
  {
   "cell_type": "code",
   "execution_count": 21,
   "metadata": {},
   "outputs": [],
   "source": [
    "from matplotlib.pyplot import plot\n",
    "import matplotlib.pyplot as plt"
   ]
  },
  {
   "cell_type": "code",
   "execution_count": 44,
   "metadata": {},
   "outputs": [
    {
     "data": {
      "text/plain": [
       "<matplotlib.axes._subplots.AxesSubplot at 0x2272650d1c8>"
      ]
     },
     "execution_count": 44,
     "metadata": {},
     "output_type": "execute_result"
    },
    {
     "data": {
      "image/png": "[encoded data removed]",
      "text/plain": [
       "<Figure size 432x288 with 1 Axes>"
      ]
     },
     "metadata": {
      "needs_background": "light"
     },
     "output_type": "display_data"
    }
   ],
   "source": [
    "pbl.plot()"
   ]
  },
  {
   "cell_type": "code",
   "execution_count": 62,
   "metadata": {},
   "outputs": [
    {
     "data": {
      "text/plain": [
       "<matplotlib.axes._subplots.AxesSubplot at 0x22723c68cc8>"
      ]
     },
     "execution_count": 62,
     "metadata": {},
     "output_type": "execute_result"
    },
    {
     "data": {
      "image/png": "[encoded data removed]",
      "text/plain": [
       "<Figure size 432x288 with 1 Axes>"
      ]
     },
     "metadata": {
      "needs_background": "light"
     },
     "output_type": "display_data"
    }
   ],
   "source": [
    "pbl.plot.bar()"
   ]
  },
  {
   "cell_type": "code",
   "execution_count": 45,
   "metadata": {},
   "outputs": [
    {
     "data": {
      "text/plain": [
       "<matplotlib.axes._subplots.AxesSubplot at 0x22725d9f5c8>"
      ]
     },
     "execution_count": 45,
     "metadata": {},
     "output_type": "execute_result"
    },
    {
     "data": {
      "image/png": "[encoded data removed]",
      "text/plain": [
       "<Figure size 432x288 with 1 Axes>"
      ]
     },
     "metadata": {
      "needs_background": "light"
     },
     "output_type": "display_data"
    }
   ],
   "source": [
    "pbl1.plot()"
   ]
  },
  {
   "cell_type": "code",
   "execution_count": 63,
   "metadata": {},
   "outputs": [
    {
     "data": {
      "text/plain": [
       "<matplotlib.axes._subplots.AxesSubplot at 0x22720bf0b88>"
      ]
     },
     "execution_count": 63,
     "metadata": {},
     "output_type": "execute_result"
    },
    {
     "data": {
      "image/png": "[encoded data removed]",
      "text/plain": [
       "<Figure size 432x288 with 1 Axes>"
      ]
     },
     "metadata": {
      "needs_background": "light"
     },
     "output_type": "display_data"
    }
   ],
   "source": [
    "pbl1.plot.bar()"
   ]
  },
  {
   "cell_type": "code",
   "execution_count": 37,
   "metadata": {},
   "outputs": [
    {
     "data": {
      "text/plain": [
       "<matplotlib.axes._subplots.AxesSubplot at 0x227263edd08>"
      ]
     },
     "execution_count": 37,
     "metadata": {},
     "output_type": "execute_result"
    },
    {
     "data": {
      "image/png": "[encoded data removed]",
      "text/plain": [
       "<Figure size 432x288 with 1 Axes>"
      ]
     },
     "metadata": {
      "needs_background": "light"
     },
     "output_type": "display_data"
    }
   ],
   "source": [
    "pbiy.plot()"
   ]
  },
  {
   "cell_type": "code",
   "execution_count": 40,
   "metadata": {},
   "outputs": [
    {
     "data": {
      "text/plain": [
       "<matplotlib.axes._subplots.AxesSubplot at 0x2272385f108>"
      ]
     },
     "execution_count": 40,
     "metadata": {},
     "output_type": "execute_result"
    },
    {
     "data": {
      "image/png": "[encoded data removed]",
      "text/plain": [
       "<Figure size 432x288 with 1 Axes>"
      ]
     },
     "metadata": {
      "needs_background": "light"
     },
     "output_type": "display_data"
    }
   ],
   "source": [
    "pby.plot()"
   ]
  },
  {
   "cell_type": "code",
   "execution_count": 41,
   "metadata": {},
   "outputs": [
    {
     "data": {
      "text/plain": [
       "<matplotlib.axes._subplots.AxesSubplot at 0x2272648c288>"
      ]
     },
     "execution_count": 41,
     "metadata": {},
     "output_type": "execute_result"
    },
    {
     "data": {
      "image/png": "[encoded data removed]",
      "text/plain": [
       "<Figure size 432x288 with 1 Axes>"
      ]
     },
     "metadata": {
      "needs_background": "light"
     },
     "output_type": "display_data"
    }
   ],
   "source": [
    "pby1.plot()"
   ]
  },
  {
   "cell_type": "code",
   "execution_count": 48,
   "metadata": {},
   "outputs": [
    {
     "data": {
      "text/plain": [
       "<matplotlib.axes._subplots.AxesSubplot at 0x2271e9ea048>"
      ]
     },
     "execution_count": 48,
     "metadata": {},
     "output_type": "execute_result"
    },
    {
     "data": {
      "image/png": "[encoded data removed]",
      "text/plain": [
       "<Figure size 432x288 with 1 Axes>"
      ]
     },
     "metadata": {
      "needs_background": "light"
     },
     "output_type": "display_data"
    }
   ],
   "source": [
    "pbn.plot()"
   ]
  },
  {
   "cell_type": "code",
   "execution_count": 49,
   "metadata": {},
   "outputs": [
    {
     "data": {
      "text/plain": [
       "<matplotlib.axes._subplots.AxesSubplot at 0x2271e154308>"
      ]
     },
     "execution_count": 49,
     "metadata": {},
     "output_type": "execute_result"
    },
    {
     "data": {
      "image/png": "[encoded data removed]",
      "text/plain": [
       "<Figure size 432x288 with 1 Axes>"
      ]
     },
     "metadata": {
      "needs_background": "light"
     },
     "output_type": "display_data"
    }
   ],
   "source": [
    "pbn1.plot()"
   ]
  },
  {
   "cell_type": "code",
   "execution_count": 71,
   "metadata": {},
   "outputs": [
    {
     "data": {
      "text/plain": [
       "<matplotlib.axes._subplots.AxesSubplot at 0x2271e941bc8>"
      ]
     },
     "execution_count": 71,
     "metadata": {},
     "output_type": "execute_result"
    },
    {
     "data": {
      "image/png": "[encoded data removed]",
      "text/plain": [
       "<Figure size 432x432 with 1 Axes>"
      ]
     },
     "metadata": {},
     "output_type": "display_data"
    }
   ],
   "source": [
    "pbn.plot.pie(figsize = (6,6))"
   ]
  },
  {
   "cell_type": "code",
   "execution_count": 74,
   "metadata": {},
   "outputs": [
    {
     "data": {
      "text/plain": [
       "<matplotlib.axes._subplots.AxesSubplot at 0x2271e973448>"
      ]
     },
     "execution_count": 74,
     "metadata": {},
     "output_type": "execute_result"
    },
    {
     "data": {
      "image/png": "[encoded data removed]",
      "text/plain": [
       "<Figure size 432x288 with 1 Axes>"
      ]
     },
     "metadata": {
      "needs_background": "light"
     },
     "output_type": "display_data"
    }
   ],
   "source": [
    "pbl.plot.area()"
   ]
  },
  {
   "cell_type": "code",
   "execution_count": null,
   "metadata": {},
   "outputs": [],
   "source": [
    "pip install auto-sklearn"
   ]
  },
  {
   "cell_type": "code",
   "execution_count": null,
   "metadata": {},
   "outputs": [],
   "source": [
    "from __future__ import print_function\n",
    "import sys,tempfile, urllib, os\n",
    "import pandas as pd\n",
    "from sklearn.model_selection import train_test_split\n",
    "import numpy as np"
   ]
  },
  {
   "cell_type": "code",
   "execution_count": null,
   "metadata": {},
   "outputs": [],
   "source": [
    "BASE_DIR = '/tmp'\n",
    "OUTPUT_FILE = os.path.join(BASE_DIR, 'openpayment_data.csv')"
   ]
  },
  {
   "cell_type": "code",
   "execution_count": null,
   "metadata": {},
   "outputs": [],
   "source": [
    "from sklearn.impute import SimpleImputer\n",
    "imp_median = SimpleImputer(missing_values=np.nan, strategy='median')\n",
    "df.iloc[:, 62] = imp_median.fit_transform(df.iloc[:, 62].values.reshape(-1, 1))"
   ]
  },
  {
   "cell_type": "code",
   "execution_count": null,
   "metadata": {},
   "outputs": [],
   "source": [
    "from sklearn.compose import make_column_transformer\n",
    "from sklearn.preprocessing import OrdinalEncoder\n",
    "\n",
    "categorical_columns = ['applicable_manufacturer_or_applicable_gpo_making_payment_name',                                                                                                         \n",
    "                                                                    'payment_publication_date', \n",
    "                                                                    'physician_profile_id',\n",
    "                                                                    'physician_first_name',\n",
    "                                                                    'physician_last_name', \n",
    "                                                                    'physician_middle_name',   \n",
    "                                                                    'physician_name_suffix',\n",
    "                                                                    'physician_primary_type',\n",
    "                                                                    'physician_profile_id',\n",
    "                                                                    'physician_specialty',\n",
    "                                                                    'program_year',\n",
    "                                                                    'recipient_city',\n",
    "                                                                    'recipient_country',\n",
    "                                                                    'recipient_primary_business_street_address_line1',                                                \n",
    "                                                                    'recipient_state',\n",
    "                                                                    'recipient_zip_code',\n",
    "                                                                    'applicable_manufacturer_or_applicable_gpo_making_payment_id',\n",
    "                                                                    'total_amount_of_payment_usdollars',\n",
    "                                                                    'date_of_payment',\n",
    "                                                                    'number_of_payments_included_in_total_amount',\n",
    "                                                                    'physician_ownership_indicator',\n",
    "                                                                    'charity_indicator',\n",
    "                                                                    'record_id',\n",
    "                                                                    'nature_of_payment_or_transfer_of_value']\n",
    "column_trans = make_column_transformer((OrdinalEncoder(), categorical_columns))\n",
    "\n",
    "transformed=column_trans.fit_transform(churn_df)"
   ]
  },
  {
   "cell_type": "code",
   "execution_count": null,
   "metadata": {},
   "outputs": [],
   "source": [
    "df_trans = df.copy()\n",
    "df_trans = pd.DataFrame(transformed, columns=categorical_columns).astype(int)"
   ]
  },
  {
   "cell_type": "code",
   "execution_count": null,
   "metadata": {},
   "outputs": [],
   "source": [
    "df.update(df_trans)"
   ]
  },
  {
   "cell_type": "code",
   "execution_count": null,
   "metadata": {},
   "outputs": [],
   "source": [
    "df_X = df.copy()\n",
    "df_y =  df_X.pop('total_amount_of_payment_usdollars')\n",
    "df_y=pd.to_numeric(df_y).astype(int)"
   ]
  },
  {
   "cell_type": "code",
   "execution_count": null,
   "metadata": {},
   "outputs": [],
   "source": [
    "X_train, X_test, y_train, y_test = train_test_split(df_X, df_y, train_size=0.75, test_size=0.25)"
   ]
  },
  {
   "cell_type": "code",
   "execution_count": null,
   "metadata": {},
   "outputs": [],
   "source": [
    "import autosklearn.classification"
   ]
  },
  {
   "cell_type": "code",
   "execution_count": null,
   "metadata": {},
   "outputs": [],
   "source": [
    "automl = autosklearn.classification.AutoSklearnClassifier(time_left_for_this_task=120, per_run_time_limit=30, n_jobs=2,\n",
    "    include_estimators=[\"random_forest\", \"sgd\", ], exclude_estimators=None, include_preprocessors=[\"no_preprocessing\", ], exclude_preprocessors=None)"
   ]
  },
  {
   "cell_type": "code",
   "execution_count": null,
   "metadata": {},
   "outputs": [],
   "source": [
    "automl.fit(X_train, y_train) "
   ]
  },
  {
   "cell_type": "code",
   "execution_count": null,
   "metadata": {},
   "outputs": [],
   "source": [
    "print(automl.show_models())"
   ]
  },
  {
   "cell_type": "markdown",
   "metadata": {},
   "source": [
    "[(0.740000, SimpleClassificationPipeline({'balancing:strategy': 'none', 'categorical_encoding:__choice__': 'one_hot_encoding', 'classifier:__choice__': 'sgd', 'imputation:strategy': 'mean', 'preprocessor:__choice__': 'no_preprocessing', 'rescaling:__choice__': 'minmax', 'categorical_encoding:one_hot_encoding:use_minimum_fraction': 'False', 'classifier:sgd:alpha': 0.00015020473455612936, 'classifier:sgd:average': 'True', 'classifier:sgd:fit_intercept': 'True', 'classifier:sgd:learning_rate': 'constant', 'classifier:sgd:loss': 'perceptron', 'classifier:sgd:penalty': 'l2', 'classifier:sgd:tol': 0.00019916862821730384, 'classifier:sgd:eta0': 0.00017377549695989675},\n",
    "dataset_properties={\n",
    "  'task': 1,\n",
    "  'sparse': False,\n",
    "  'multilabel': False,\n",
    "  'multiclass': False,\n",
    "  'target_type': 'classification',\n",
    "  'signed': False})),\n",
    "(0.100000, SimpleClassificationPipeline({'balancing:strategy': 'weighting', 'categorical_encoding:__choice__': 'no_encoding', 'classifier:__choice__': 'sgd', 'imputation:strategy': 'mean', 'preprocessor:__choice__': 'no_preprocessing', 'rescaling:__choice__': 'minmax', 'classifier:sgd:alpha': 1.4661311331774623e-07, 'classifier:sgd:average': 'False', 'classifier:sgd:fit_intercept': 'True', 'classifier:sgd:learning_rate': 'invscaling', 'classifier:sgd:loss': 'hinge', 'classifier:sgd:penalty': 'elasticnet', 'classifier:sgd:tol': 0.001351277100752401, 'classifier:sgd:eta0': 5.979636547652925e-05, 'classifier:sgd:l1_ratio': 0.11209870868967255, 'classifier:sgd:power_t': 0.48700117227462425},\n",
    "dataset_properties={\n",
    "  'task': 1,\n",
    "  'sparse': False,\n",
    "  'multilabel': False,\n",
    "  'multiclass': False,\n",
    "  'target_type': 'classification',\n",
    "  'signed': False})),\n",
    "(0.060000, SimpleClassificationPipeline({'balancing:strategy': 'weighting', 'categorical_encoding:__choice__': 'one_hot_encoding', 'classifier:__choice__': 'sgd', 'imputation:strategy': 'mean', 'preprocessor:__choice__': 'no_preprocessing', 'rescaling:__choice__': 'quantile_transformer', 'categorical_encoding:one_hot_encoding:use_minimum_fraction': 'True', 'classifier:sgd:alpha': 1.2857846469578073e-06, 'classifier:sgd:average': 'False', 'classifier:sgd:fit_intercept': 'True', 'classifier:sgd:learning_rate': 'constant', 'classifier:sgd:loss': 'hinge', 'classifier:sgd:penalty': 'l2', 'classifier:sgd:tol': 0.04410667380969407, 'rescaling:quantile_transformer:n_quantiles': 1586, 'rescaling:quantile_transformer:output_distribution': 'uniform', 'categorical_encoding:one_hot_encoding:minimum_fraction': 0.09986646131126313, 'classifier:sgd:eta0': 5.946575545445311e-07},\n",
    "dataset_properties={\n",
    "  'task': 1,\n",
    "  'sparse': False,\n",
    "  'multilabel': False,\n",
    "  'multiclass': False,\n",
    "  'target_type': 'classification',\n",
    "  'signed': False})),\n",
    "(0.020000, SimpleClassificationPipeline({'balancing:strategy': 'none', 'categorical_encoding:__choice__': 'no_encoding', 'classifier:__choice__': 'sgd', 'imputation:strategy': 'mean', 'preprocessor:__choice__': 'no_preprocessing', 'rescaling:__choice__': 'quantile_transformer', 'classifier:sgd:alpha': 6.688106445393722e-05, 'classifier:sgd:average': 'True', 'classifier:sgd:fit_intercept': 'True', 'classifier:sgd:learning_rate': 'optimal', 'classifier:sgd:loss': 'modified_huber', 'classifier:sgd:penalty': 'elasticnet', 'classifier:sgd:tol': 0.00015920784559559734, 'rescaling:quantile_transformer:n_quantiles': 1911, 'rescaling:quantile_transformer:output_distribution': 'normal', 'classifier:sgd:epsilon': 0.008825370738954516, 'classifier:sgd:l1_ratio': 0.5999644226837954},\n",
    "dataset_properties={\n",
    "  'task': 1,\n",
    "  'sparse': False,\n",
    "  'multilabel': False,\n",
    "  'multiclass': False,\n",
    "  'target_type': 'classification',\n",
    "  'signed': False})),\n",
    "(0.020000, SimpleClassificationPipeline({'balancing:strategy': 'none', 'categorical_encoding:__choice__': 'one_hot_encoding', 'classifier:__choice__': 'sgd', 'imputation:strategy': 'mean', 'preprocessor:__choice__': 'no_preprocessing', 'rescaling:__choice__': 'minmax', 'categorical_encoding:one_hot_encoding:use_minimum_fraction': 'False', 'classifier:sgd:alpha': 0.0003348203349978078, 'classifier:sgd:average': 'True', 'classifier:sgd:fit_intercept': 'True', 'classifier:sgd:learning_rate': 'constant', 'classifier:sgd:loss': 'modified_huber', 'classifier:sgd:penalty': 'l1', 'classifier:sgd:tol': 1.2238863635799662e-05, 'classifier:sgd:epsilon': 0.00010000000000000009, 'classifier:sgd:eta0': 0.010000000000000014},\n",
    "dataset_properties={\n",
    "  'task': 1,\n",
    "  'sparse': False,\n",
    "  'multilabel': False,\n",
    "  'multiclass': False,\n",
    "  'target_type': 'classification',\n",
    "  'signed': False})),\n",
    "(0.020000, SimpleClassificationPipeline({'balancing:strategy': 'none', 'categorical_encoding:__choice__': 'no_encoding', 'classifier:__choice__': 'random_forest', 'imputation:strategy': 'mean', 'preprocessor:__choice__': 'no_preprocessing', 'rescaling:__choice__': 'minmax', 'classifier:random_forest:bootstrap': 'True', 'classifier:random_forest:criterion': 'entropy', 'classifier:random_forest:max_depth': 'None', 'classifier:random_forest:max_features': 0.5131630663901667, 'classifier:random_forest:max_leaf_nodes': 'None', 'classifier:random_forest:min_impurity_decrease': 0.0, 'classifier:random_forest:min_samples_leaf': 4, 'classifier:random_forest:min_samples_split': 19, 'classifier:random_forest:min_weight_fraction_leaf': 0.0, 'classifier:random_forest:n_estimators': 100},\n",
    "dataset_properties={\n",
    "  'task': 1,\n",
    "  'sparse': False,\n",
    "  'multilabel': False,\n",
    "  'multiclass': False,\n",
    "  'target_type': 'classification',\n",
    "  'signed': False})),\n",
    "(0.020000, SimpleClassificationPipeline({'balancing:strategy': 'none', 'categorical_encoding:__choice__': 'no_encoding', 'classifier:__choice__': 'sgd', 'imputation:strategy': 'median', 'preprocessor:__choice__': 'no_preprocessing', 'rescaling:__choice__': 'minmax', 'classifier:sgd:alpha': 2.3015714930836486e-07, 'classifier:sgd:average': 'False', 'classifier:sgd:fit_intercept': 'True', 'classifier:sgd:learning_rate': 'optimal', 'classifier:sgd:loss': 'log', 'classifier:sgd:penalty': 'elasticnet', 'classifier:sgd:tol': 0.0004301886169338696, 'classifier:sgd:l1_ratio': 7.491545078267923e-09},\n",
    "dataset_properties={\n",
    "  'task': 1,\n",
    "  'sparse': False,\n",
    "  'multilabel': False,\n",
    "  'multiclass': False,\n",
    "  'target_type': 'classification',\n",
    "  'signed': False})),\n",
    "(0.020000, SimpleClassificationPipeline({'balancing:strategy': 'none', 'categorical_encoding:__choice__': 'no_encoding', 'classifier:__choice__': 'sgd', 'imputation:strategy': 'mean', 'preprocessor:__choice__': 'no_preprocessing', 'rescaling:__choice__': 'minmax', 'classifier:sgd:alpha': 0.000189369754599942, 'classifier:sgd:average': 'False', 'classifier:sgd:fit_intercept': 'True', 'classifier:sgd:learning_rate': 'constant', 'classifier:sgd:loss': 'perceptron', 'classifier:sgd:penalty': 'l1', 'classifier:sgd:tol': 0.00011770874156197604, 'classifier:sgd:eta0': 0.010000000000000014},\n",
    "dataset_properties={\n",
    "  'task': 1,\n",
    "  'sparse': False,\n",
    "  'multilabel': False,\n",
    "  'multiclass': False,\n",
    "  'target_type': 'classification',\n",
    "  'signed': False})),\n",
    "][(0.740000, SimpleClassificationPipeline({'balancing:strategy': 'none', 'categorical_encoding:__choice__': 'one_hot_encoding', 'classifier:__choice__': 'sgd', 'imputation:strategy': 'mean', 'preprocessor:__choice__': 'no_preprocessing', 'rescaling:__choice__': 'minmax', 'categorical_encoding:one_hot_encoding:use_minimum_fraction': 'False', 'classifier:sgd:alpha': 0.00015020473455612936, 'classifier:sgd:average': 'True', 'classifier:sgd:fit_intercept': 'True', 'classifier:sgd:learning_rate': 'constant', 'classifier:sgd:loss': 'perceptron', 'classifier:sgd:penalty': 'l2', 'classifier:sgd:tol': 0.00019916862821730384, 'classifier:sgd:eta0': 0.00017377549695989675},\n",
    "dataset_properties={\n",
    "  'task': 1,\n",
    "  'sparse': False,\n",
    "  'multilabel': False,\n",
    "  'multiclass': False,\n",
    "  'target_type': 'classification',\n",
    "  'signed': False})),\n",
    "(0.100000, SimpleClassificationPipeline({'balancing:strategy': 'weighting', 'categorical_encoding:__choice__': 'no_encoding', 'classifier:__choice__': 'sgd', 'imputation:strategy': 'mean', 'preprocessor:__choice__': 'no_preprocessing', 'rescaling:__choice__': 'minmax', 'classifier:sgd:alpha': 1.4661311331774623e-07, 'classifier:sgd:average': 'False', 'classifier:sgd:fit_intercept': 'True', 'classifier:sgd:learning_rate': 'invscaling', 'classifier:sgd:loss': 'hinge', 'classifier:sgd:penalty': 'elasticnet', 'classifier:sgd:tol': 0.001351277100752401, 'classifier:sgd:eta0': 5.979636547652925e-05, 'classifier:sgd:l1_ratio': 0.11209870868967255, 'classifier:sgd:power_t': 0.48700117227462425},\n",
    "dataset_properties={\n",
    "  'task': 1,\n",
    "  'sparse': False,\n",
    "  'multilabel': False,\n",
    "  'multiclass': False,\n",
    "  'target_type': 'classification',\n",
    "  'signed': False})),\n",
    "(0.060000, SimpleClassificationPipeline({'balancing:strategy': 'weighting', 'categorical_encoding:__choice__': 'one_hot_encoding', 'classifier:__choice__': 'sgd', 'imputation:strategy': 'mean', 'preprocessor:__choice__': 'no_preprocessing', 'rescaling:__choice__': 'quantile_transformer', 'categorical_encoding:one_hot_encoding:use_minimum_fraction': 'True', 'classifier:sgd:alpha': 1.2857846469578073e-06, 'classifier:sgd:average': 'False', 'classifier:sgd:fit_intercept': 'True', 'classifier:sgd:learning_rate': 'constant', 'classifier:sgd:loss': 'hinge', 'classifier:sgd:penalty': 'l2', 'classifier:sgd:tol': 0.04410667380969407, 'rescaling:quantile_transformer:n_quantiles': 1586, 'rescaling:quantile_transformer:output_distribution': 'uniform', 'categorical_encoding:one_hot_encoding:minimum_fraction': 0.09986646131126313, 'classifier:sgd:eta0': 5.946575545445311e-07},\n",
    "dataset_properties={\n",
    "  'task': 1,\n",
    "  'sparse': False,\n",
    "  'multilabel': False,\n",
    "  'multiclass': False,\n",
    "  'target_type': 'classification',\n",
    "  'signed': False})),\n",
    "(0.020000, SimpleClassificationPipeline({'balancing:strategy': 'none', 'categorical_encoding:__choice__': 'no_encoding', 'classifier:__choice__': 'sgd', 'imputation:strategy': 'mean', 'preprocessor:__choice__': 'no_preprocessing', 'rescaling:__choice__': 'quantile_transformer', 'classifier:sgd:alpha': 6.688106445393722e-05, 'classifier:sgd:average': 'True', 'classifier:sgd:fit_intercept': 'True', 'classifier:sgd:learning_rate': 'optimal', 'classifier:sgd:loss': 'modified_huber', 'classifier:sgd:penalty': 'elasticnet', 'classifier:sgd:tol': 0.00015920784559559734, 'rescaling:quantile_transformer:n_quantiles': 1911, 'rescaling:quantile_transformer:output_distribution': 'normal', 'classifier:sgd:epsilon': 0.008825370738954516, 'classifier:sgd:l1_ratio': 0.5999644226837954},\n",
    "dataset_properties={\n",
    "  'task': 1,\n",
    "  'sparse': False,\n",
    "  'multilabel': False,\n",
    "  'multiclass': False,\n",
    "  'target_type': 'classification',\n",
    "  'signed': False})),\n",
    "(0.020000, SimpleClassificationPipeline({'balancing:strategy': 'none', 'categorical_encoding:__choice__': 'one_hot_encoding', 'classifier:__choice__': 'sgd', 'imputation:strategy': 'mean', 'preprocessor:__choice__': 'no_preprocessing', 'rescaling:__choice__': 'minmax', 'categorical_encoding:one_hot_encoding:use_minimum_fraction': 'False', 'classifier:sgd:alpha': 0.0003348203349978078, 'classifier:sgd:average': 'True', 'classifier:sgd:fit_intercept': 'True', 'classifier:sgd:learning_rate': 'constant', 'classifier:sgd:loss': 'modified_huber', 'classifier:sgd:penalty': 'l1', 'classifier:sgd:tol': 1.2238863635799662e-05, 'classifier:sgd:epsilon': 0.00010000000000000009, 'classifier:sgd:eta0': 0.010000000000000014},\n",
    "dataset_properties={\n",
    "  'task': 1,\n",
    "  'sparse': False,\n",
    "  'multilabel': False,\n",
    "  'multiclass': False,\n",
    "  'target_type': 'classification',\n",
    "  'signed': False})),\n",
    "(0.020000, SimpleClassificationPipeline({'balancing:strategy': 'none', 'categorical_encoding:__choice__': 'no_encoding', 'classifier:__choice__': 'random_forest', 'imputation:strategy': 'mean', 'preprocessor:__choice__': 'no_preprocessing', 'rescaling:__choice__': 'minmax', 'classifier:random_forest:bootstrap': 'True', 'classifier:random_forest:criterion': 'entropy', 'classifier:random_forest:max_depth': 'None', 'classifier:random_forest:max_features': 0.5131630663901667, 'classifier:random_forest:max_leaf_nodes': 'None', 'classifier:random_forest:min_impurity_decrease': 0.0, 'classifier:random_forest:min_samples_leaf': 4, 'classifier:random_forest:min_samples_split': 19, 'classifier:random_forest:min_weight_fraction_leaf': 0.0, 'classifier:random_forest:n_estimators': 100},\n",
    "dataset_properties={\n",
    "  'task': 1,\n",
    "  'sparse': False,\n",
    "  'multilabel': False,\n",
    "  'multiclass': False,\n",
    "  'target_type': 'classification',\n",
    "  'signed': False})),\n",
    "(0.020000, SimpleClassificationPipeline({'balancing:strategy': 'none', 'categorical_encoding:__choice__': 'no_encoding', 'classifier:__choice__': 'sgd', 'imputation:strategy': 'median', 'preprocessor:__choice__': 'no_preprocessing', 'rescaling:__choice__': 'minmax', 'classifier:sgd:alpha': 2.3015714930836486e-07, 'classifier:sgd:average': 'False', 'classifier:sgd:fit_intercept': 'True', 'classifier:sgd:learning_rate': 'optimal', 'classifier:sgd:loss': 'log', 'classifier:sgd:penalty': 'elasticnet', 'classifier:sgd:tol': 0.0004301886169338696, 'classifier:sgd:l1_ratio': 7.491545078267923e-09},\n",
    "dataset_properties={\n",
    "  'task': 1,\n",
    "  'sparse': False,\n",
    "  'multilabel': False,\n",
    "  'multiclass': False,\n",
    "  'target_type': 'classification',\n",
    "  'signed': False})),\n",
    "(0.020000, SimpleClassificationPipeline({'balancing:strategy': 'none', 'categorical_encoding:__choice__': 'no_encoding', 'classifier:__choice__': 'sgd', 'imputation:strategy': 'mean', 'preprocessor:__choice__': 'no_preprocessing', 'rescaling:__choice__': 'minmax', 'classifier:sgd:alpha': 0.000189369754599942, 'classifier:sgd:average': 'False', 'classifier:sgd:fit_intercept': 'True', 'classifier:sgd:learning_rate': 'constant', 'classifier:sgd:loss': 'perceptron', 'classifier:sgd:penalty': 'l1', 'classifier:sgd:tol': 0.00011770874156197604, 'classifier:sgd:eta0': 0.010000000000000014},\n",
    "dataset_properties={\n",
    "  'task': 1,\n",
    "  'sparse': False,\n",
    "  'multilabel': False,\n",
    "  'multiclass': False,\n",
    "  'target_type': 'classification',\n",
    "  'signed': False})),\n",
    "]\n"
   ]
  },
  {
   "cell_type": "code",
   "execution_count": null,
   "metadata": {},
   "outputs": [],
   "source": [
    "print(automl.sprint_statistics())"
   ]
  },
  {
   "cell_type": "markdown",
   "metadata": {},
   "source": [
    "auto-sklearn results:\n",
    "  Dataset name: 553a1a40e63a8853764d97603c9919e0\n",
    "  Metric: accuracy\n",
    "  Best validation score: 0.799885\n",
    "  Number of target algorithm runs: 148\n",
    "  Number of successful target algorithm runs: 148\n",
    "  Number of crashed target algorithm runs: 0\n",
    "  Number of target algorithms that exceeded the time limit: 0\n",
    "  Number of target algorithms that exceeded the memory limit: 0"
   ]
  },
  {
   "cell_type": "code",
   "execution_count": null,
   "metadata": {},
   "outputs": [],
   "source": [
    "automl.cv_results_['params'][np.argmax(automl.cv_results_['mean_test_score'])]"
   ]
  },
  {
   "cell_type": "markdown",
   "metadata": {},
   "source": [
    "{'balancing:strategy': 'none',\n",
    " 'categorical_encoding:__choice__': 'no_encoding',\n",
    " 'classifier:__choice__': 'sgd',\n",
    " 'classifier:sgd:alpha': 6.688106445393722e-05,\n",
    " 'classifier:sgd:average': 'True',\n",
    " 'classifier:sgd:epsilon': 0.008825370738954516,\n",
    " 'classifier:sgd:fit_intercept': 'True',\n",
    " 'classifier:sgd:l1_ratio': 0.5999644226837954,\n",
    " 'classifier:sgd:learning_rate': 'optimal',\n",
    " 'classifier:sgd:loss': 'modified_huber',\n",
    " 'classifier:sgd:penalty': 'elasticnet',\n",
    " 'classifier:sgd:tol': 0.00015920784559559734,\n",
    " 'imputation:strategy': 'mean',\n",
    " 'preprocessor:__choice__': 'no_preprocessing',\n",
    " 'rescaling:__choice__': 'quantile_transformer',\n",
    " 'rescaling:quantile_transformer:n_quantiles': 1911,\n",
    " 'rescaling:quantile_transformer:output_distribution': 'normal'}"
   ]
  },
  {
   "cell_type": "code",
   "execution_count": null,
   "metadata": {},
   "outputs": [],
   "source": [
    "predictions = automl.predict(X_test)"
   ]
  },
  {
   "cell_type": "code",
   "execution_count": null,
   "metadata": {},
   "outputs": [],
   "source": [
    "import sklearn.metrics\n",
    "print(\"R2 score\", sklearn.metrics.r2_score(y_test, predictions))"
   ]
  },
  {
   "cell_type": "markdown",
   "metadata": {},
   "source": [
    "R2 score 0.9303350369108461"
   ]
  },
  {
   "cell_type": "code",
   "execution_count": 1,
   "metadata": {},
   "outputs": [],
   "source": [
    "# print(\"Accuracy score\", sklearn.metrics.accuracy_score(y_test, predictions))\n",
    "# print(sklearn.metrics.precision_score(y_test, predictions))\n",
    "# print(sklearn.metrics.recall_score(y_test, predictions))"
   ]
  },
  {
   "cell_type": "code",
   "execution_count": null,
   "metadata": {},
   "outputs": [],
   "source": []
  }
 ],
 "metadata": {
  "kernelspec": {
   "display_name": "Python 3",
   "language": "python",
   "name": "python3"
  },
  "language_info": {
   "codemirror_mode": {
    "name": "ipython",
    "version": 3
   },
   "file_extension": ".py",
   "mimetype": "text/x-python",
   "name": "python",
   "nbconvert_exporter": "python",
   "pygments_lexer": "ipython3",
   "version": "3.7.7"
  }
 },
 "nbformat": 4,
 "nbformat_minor": 4
}
